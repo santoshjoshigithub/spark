{
 "cells": [
  {
   "cell_type": "code",
   "execution_count": 1,
   "metadata": {},
   "outputs": [],
   "source": [
    "# import libraries for working in Jupyter Notebook in windows machine..\n",
    "\n",
    "import findspark\n",
    "findspark.init()\n",
    "findspark.find()\n",
    "import pyspark"
   ]
  },
  {
   "cell_type": "code",
   "execution_count": 2,
   "metadata": {},
   "outputs": [],
   "source": [
    "# SparkConf = Configuration for a Spark application. Used to set various Spark parameters as key-value pairs e.g\n",
    "# whether you want to runk spark in local or in cluster\n",
    "# SparkContext = Main entry point for Spark functionality. It represents the connection to a Spark cluster, \n",
    "# and can be used to create L{RDD} and broadcast variables on that cluster.\n",
    "# Collection = for doing house keeping stuff, it's more of a python library than pyspark.\n",
    "\n",
    "from pyspark import SparkConf, SparkContext\n",
    "import collections"
   ]
  },
  {
   "cell_type": "code",
   "execution_count": 3,
   "metadata": {},
   "outputs": [],
   "source": [
    "# SparkConf() is used for Configuration for a Spark application. Used to set various Spark parameters as key-value pairs.\n",
    "# setMaster = Set master URL to connect to\n",
    "# setAppName = Set application name.\n",
    "\n",
    "conf = SparkConf().setMaster(\"local\").setAppName(\"hello_rdd\")\n",
    "sc = SparkContext(conf = conf)"
   ]
  },
  {
   "cell_type": "code",
   "execution_count": 4,
   "metadata": {},
   "outputs": [],
   "source": [
    "# split - Split a string into a list where each word is a list item.\n",
    "# u.data - it's a text file with 4 columns {user_id, movie_id, rating, time_stamp}, with no column header.\n",
    "# countByValue = It's an action. it returns the count of each unique value in this RDD as a dictionary of (value, count) pairs.\n",
    "\n",
    "lines = sc.textFile(\"file:///SparkCourse/ml-100k/u.data\")\n",
    "ratings = lines.map(lambda x: x.split()[2])\n",
    "result = ratings.countByValue()"
   ]
  },
  {
   "cell_type": "code",
   "execution_count": 5,
   "metadata": {},
   "outputs": [
    {
     "name": "stdout",
     "output_type": "stream",
     "text": [
      "1 --> 6110\n",
      "2 --> 11370\n",
      "3 --> 27145\n",
      "4 --> 34174\n",
      "5 --> 21201\n"
     ]
    }
   ],
   "source": [
    "# collections.OrderedDictDictionary that remembers insertion order\n",
    "# D.items() -> a set-like object providing a view on D's items\n",
    "# sorted = Return a new list containing all items from the iterable in ascending order.\n",
    "\n",
    "\n",
    "sortedResults = collections.OrderedDict(sorted(result.items()))\n",
    "for key, value in sortedResults.items():\n",
    "    print(\"%s --> %i\" % (key, value))"
   ]
  }
 ],
 "metadata": {
  "kernelspec": {
   "display_name": "Python 3",
   "language": "python",
   "name": "python3"
  },
  "language_info": {
   "codemirror_mode": {
    "name": "ipython",
    "version": 3
   },
   "file_extension": ".py",
   "mimetype": "text/x-python",
   "name": "python",
   "nbconvert_exporter": "python",
   "pygments_lexer": "ipython3",
   "version": "3.7.7"
  }
 },
 "nbformat": 4,
 "nbformat_minor": 4
}
