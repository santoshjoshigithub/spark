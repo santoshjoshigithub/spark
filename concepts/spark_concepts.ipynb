{
 "cells": [
  {
   "cell_type": "markdown",
   "metadata": {},
   "source": [
    "### Spark Concepts"
   ]
  },
  {
   "cell_type": "markdown",
   "metadata": {},
   "source": [
    "#### What's new in Spark 3.0?"
   ]
  },
  {
   "cell_type": "markdown",
   "metadata": {},
   "source": [
    "1. Not much development in MLLIB library especially MLLIB with RDD interface.\n",
    "2. Spark 3 is significantly faster. Adaptive Execution and Dynamic Partitioning Pruning.\n",
    "3. Python 2 support is deprecated.\n",
    "4. Deeper Kubernetes support.\n",
    "5. Support for Binary files e.g. images, video etc.\n",
    "6. SparkGraph. Uses Cypher query language.\n",
    "7. ACID support in data lakes i.e. Delta Lakes."
   ]
  },
  {
   "cell_type": "markdown",
   "metadata": {},
   "source": [
    "### RDD - Resilient, Distributed, Dataset"
   ]
  },
  {
   "cell_type": "markdown",
   "metadata": {},
   "source": [
    "1. RDDs can be created using many ways. E.g. paraellize, sc.textFile, Hive, JDBC connectors, Cassandara, HBASe etc.\n",
    "2. Transformations: map, flatmap, filter, distinct, sample, union, intersection, substract, cartesian etc.\n",
    "3. Actions: collect, count, countByValue, take, top, reduce etc.\n",
    "4. Lazy Evaluation: Nothing happens until an action is being called."
   ]
  },
  {
   "cell_type": "markdown",
   "metadata": {},
   "source": [
    "### Spark Context"
   ]
  },
  {
   "cell_type": "markdown",
   "metadata": {},
   "source": [
    "1. Created by Driver Program\n",
    "2. Is responsible for making RDDs\n",
    "3. "
   ]
  },
  {
   "cell_type": "code",
   "execution_count": null,
   "metadata": {},
   "outputs": [],
   "source": []
  },
  {
   "cell_type": "code",
   "execution_count": null,
   "metadata": {},
   "outputs": [],
   "source": []
  }
 ],
 "metadata": {
  "kernelspec": {
   "display_name": "Python 3",
   "language": "python",
   "name": "python3"
  },
  "language_info": {
   "codemirror_mode": {
    "name": "ipython",
    "version": 3
   },
   "file_extension": ".py",
   "mimetype": "text/x-python",
   "name": "python",
   "nbconvert_exporter": "python",
   "pygments_lexer": "ipython3",
   "version": "3.7.7"
  }
 },
 "nbformat": 4,
 "nbformat_minor": 4
}
